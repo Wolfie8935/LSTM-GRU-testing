{
 "cells": [
  {
   "cell_type": "code",
   "execution_count": 4,
   "metadata": {},
   "outputs": [
    {
     "name": "stdout",
     "output_type": "stream",
     "text": [
      "Num GPUs Available:  1\n",
      "Epoch 1/10\n",
      "3125/3125 [==============================] - 5s 1ms/step - loss: 2.3047 - accuracy: 0.1005\n",
      "Epoch 2/10\n",
      "3125/3125 [==============================] - 5s 1ms/step - loss: 2.3028 - accuracy: 0.1019\n",
      "Epoch 3/10\n",
      "3125/3125 [==============================] - 5s 1ms/step - loss: 2.3026 - accuracy: 0.1024\n",
      "Epoch 4/10\n",
      "3125/3125 [==============================] - 5s 1ms/step - loss: 2.3026 - accuracy: 0.1042\n",
      "Epoch 5/10\n",
      "3125/3125 [==============================] - 4s 1ms/step - loss: 2.3023 - accuracy: 0.1052\n",
      "Epoch 6/10\n",
      "3125/3125 [==============================] - 5s 1ms/step - loss: 2.3020 - accuracy: 0.1065\n",
      "Epoch 7/10\n",
      "3125/3125 [==============================] - 4s 1ms/step - loss: 2.3014 - accuracy: 0.1082\n",
      "Epoch 8/10\n",
      "3125/3125 [==============================] - 4s 1ms/step - loss: 2.3012 - accuracy: 0.1078\n",
      "Epoch 9/10\n",
      "3125/3125 [==============================] - 4s 1ms/step - loss: 2.3005 - accuracy: 0.1083\n",
      "Epoch 10/10\n",
      "3125/3125 [==============================] - 4s 1ms/step - loss: 2.3000 - accuracy: 0.1101\n"
     ]
    },
    {
     "data": {
      "text/plain": [
       "<keras.callbacks.History at 0x28298bd5ca0>"
      ]
     },
     "execution_count": 4,
     "metadata": {},
     "output_type": "execute_result"
    }
   ],
   "source": [
    "import tensorflow as tf\n",
    "from tensorflow.keras import layers, models\n",
    "import numpy as np\n",
    "\n",
    "# Check if GPU is available\n",
    "gpus = tf.config.experimental.list_physical_devices('GPU')\n",
    "if gpus:\n",
    "    print(\"Num GPUs Available: \", len(gpus))\n",
    "    try:\n",
    "        for gpu in gpus:\n",
    "            tf.config.experimental.set_memory_growth(gpu, True)\n",
    "    except RuntimeError as e:\n",
    "        print(e)\n",
    "\n",
    "# Generate some dummy data\n",
    "num_samples = 100000\n",
    "input_shape = (32,)  # Example input shape\n",
    "X_train = np.random.rand(num_samples, *input_shape).astype(np.float32)\n",
    "y_train = np.random.randint(0, 10, size=(num_samples,)).astype(np.float32)\n",
    "\n",
    "# Define a simple model\n",
    "model = models.Sequential([\n",
    "    layers.Dense(64, activation='relu', input_shape=input_shape),\n",
    "    layers.Dense(64, activation='relu'),\n",
    "    layers.Dense(10, activation='softmax')  # Assuming 10 classes for the output\n",
    "])\n",
    "\n",
    "# Compile the model\n",
    "model.compile(optimizer='adam', loss='sparse_categorical_crossentropy', metrics=['accuracy'])\n",
    "\n",
    "# Train the model\n",
    "model.fit(X_train, y_train, epochs=10, batch_size=32)\n"
   ]
  },
  {
   "cell_type": "code",
   "execution_count": 3,
   "metadata": {},
   "outputs": [
    {
     "name": "stdout",
     "output_type": "stream",
     "text": [
      "Epoch 1/10\n",
      "32/32 [==============================] - 0s 3ms/step - loss: 2.3148 - accuracy: 0.1070\n",
      "Epoch 2/10\n",
      "32/32 [==============================] - 0s 3ms/step - loss: 2.2955 - accuracy: 0.1350\n",
      "Epoch 3/10\n",
      "32/32 [==============================] - 0s 2ms/step - loss: 2.2837 - accuracy: 0.1440\n",
      "Epoch 4/10\n",
      "32/32 [==============================] - 0s 2ms/step - loss: 2.2735 - accuracy: 0.1690\n",
      "Epoch 5/10\n",
      "32/32 [==============================] - 0s 2ms/step - loss: 2.2638 - accuracy: 0.1710\n",
      "Epoch 6/10\n",
      "32/32 [==============================] - 0s 2ms/step - loss: 2.2525 - accuracy: 0.1610\n",
      "Epoch 7/10\n",
      "32/32 [==============================] - 0s 2ms/step - loss: 2.2436 - accuracy: 0.1920\n",
      "Epoch 8/10\n",
      "32/32 [==============================] - 0s 2ms/step - loss: 2.2304 - accuracy: 0.2010\n",
      "Epoch 9/10\n",
      "32/32 [==============================] - 0s 2ms/step - loss: 2.2239 - accuracy: 0.1780\n",
      "Epoch 10/10\n",
      "32/32 [==============================] - 0s 2ms/step - loss: 2.2115 - accuracy: 0.2160\n"
     ]
    },
    {
     "data": {
      "text/plain": [
       "<keras.callbacks.History at 0x28298b08430>"
      ]
     },
     "execution_count": 3,
     "metadata": {},
     "output_type": "execute_result"
    }
   ],
   "source": [
    "import tensorflow as tf\n",
    "from tensorflow.keras import layers, models\n",
    "import numpy as np\n",
    "\n",
    "# Set the environment to use only CPU\n",
    "# tf.config.set_visible_devices([], 'GPU')\n",
    "\n",
    "# Generate some dummy data\n",
    "num_samples = 1000\n",
    "input_shape = (32,)  # Example input shape\n",
    "X_train = np.random.rand(num_samples, *input_shape).astype(np.float32)\n",
    "y_train = np.random.randint(0, 10, size=(num_samples,)).astype(np.float32)\n",
    "\n",
    "# Define a simple model\n",
    "model = models.Sequential([\n",
    "    layers.Dense(64, activation='relu', input_shape=input_shape),\n",
    "    layers.Dense(64, activation='relu'),\n",
    "    layers.Dense(10, activation='softmax')  # Assuming 10 classes for the output\n",
    "])\n",
    "\n",
    "# Compile the model\n",
    "model.compile(optimizer='adam', loss='sparse_categorical_crossentropy', metrics=['accuracy'])\n",
    "\n",
    "# Train the model\n",
    "model.fit(X_train, y_train, epochs=10, batch_size=32)\n"
   ]
  },
  {
   "cell_type": "code",
   "execution_count": 5,
   "metadata": {},
   "outputs": [
    {
     "name": "stdout",
     "output_type": "stream",
     "text": [
      "Num GPUs Available:  1\n"
     ]
    }
   ],
   "source": [
    "import tensorflow as tf\n",
    "\n",
    "print(\"Num GPUs Available: \", len(tf.config.experimental.list_physical_devices('GPU')))\n"
   ]
  },
  {
   "cell_type": "code",
   "execution_count": 6,
   "metadata": {},
   "outputs": [
    {
     "name": "stdout",
     "output_type": "stream",
     "text": [
      "Using GPU for training: [PhysicalDevice(name='/physical_device:GPU:0', device_type='GPU')]\n",
      "Epoch 1/10\n",
      "32/32 [==============================] - 0s 2ms/step - loss: 2.3248 - accuracy: 0.0960\n",
      "Epoch 2/10\n",
      "32/32 [==============================] - 0s 2ms/step - loss: 2.2958 - accuracy: 0.1170\n",
      "Epoch 3/10\n",
      "32/32 [==============================] - 0s 2ms/step - loss: 2.2854 - accuracy: 0.1270\n",
      "Epoch 4/10\n",
      "32/32 [==============================] - 0s 2ms/step - loss: 2.2759 - accuracy: 0.1490\n",
      "Epoch 5/10\n",
      "32/32 [==============================] - 0s 2ms/step - loss: 2.2660 - accuracy: 0.1610\n",
      "Epoch 6/10\n",
      "32/32 [==============================] - 0s 2ms/step - loss: 2.2580 - accuracy: 0.1730\n",
      "Epoch 7/10\n",
      "32/32 [==============================] - 0s 2ms/step - loss: 2.2461 - accuracy: 0.1830\n",
      "Epoch 8/10\n",
      "32/32 [==============================] - 0s 2ms/step - loss: 2.2466 - accuracy: 0.1910\n",
      "Epoch 9/10\n",
      "32/32 [==============================] - 0s 2ms/step - loss: 2.2296 - accuracy: 0.2020\n",
      "Epoch 10/10\n",
      "32/32 [==============================] - 0s 2ms/step - loss: 2.2202 - accuracy: 0.2200\n"
     ]
    },
    {
     "data": {
      "text/plain": [
       "<keras.callbacks.History at 0x28298ccd580>"
      ]
     },
     "execution_count": 6,
     "metadata": {},
     "output_type": "execute_result"
    }
   ],
   "source": [
    "import os\n",
    "import tensorflow as tf\n",
    "from tensorflow.keras import layers, models\n",
    "import numpy as np\n",
    "\n",
    "# Ensure that TensorFlow uses the first GPU available\n",
    "os.environ[\"CUDA_VISIBLE_DEVICES\"] = \"0\"  # Change \"0\" to the index of your desired GPU\n",
    "\n",
    "# Check for GPU availability and configure TensorFlow to use GPU\n",
    "gpus = tf.config.experimental.list_physical_devices('GPU')\n",
    "if gpus:\n",
    "    try:\n",
    "        # Set memory growth to avoid memory allocation issues\n",
    "        for gpu in gpus:\n",
    "            tf.config.experimental.set_memory_growth(gpu, True)\n",
    "        print(\"Using GPU for training:\", gpus)\n",
    "    except RuntimeError as e:\n",
    "        print(e)\n",
    "else:\n",
    "    print(\"No GPU detected. Defaulting to CPU.\")\n",
    "\n",
    "# Generate some dummy data\n",
    "num_samples = 1000\n",
    "input_shape = (32,)  # Example input shape\n",
    "X_train = np.random.rand(num_samples, *input_shape).astype(np.float32)\n",
    "y_train = np.random.randint(0, 10, size=(num_samples,)).astype(np.float32)\n",
    "\n",
    "# Define a simple model\n",
    "model = models.Sequential([\n",
    "    layers.Dense(64, activation='relu', input_shape=input_shape),\n",
    "    layers.Dense(64, activation='relu'),\n",
    "    layers.Dense(10, activation='softmax')  # Assuming 10 classes for the output\n",
    "])\n",
    "\n",
    "# Compile the model\n",
    "model.compile(optimizer='adam', loss='sparse_categorical_crossentropy', metrics=['accuracy'])\n",
    "\n",
    "# Train the model\n",
    "model.fit(X_train, y_train, epochs=10, batch_size=32)\n"
   ]
  },
  {
   "cell_type": "code",
   "execution_count": null,
   "metadata": {},
   "outputs": [],
   "source": []
  }
 ],
 "metadata": {
  "kernelspec": {
   "display_name": "tf_gpu_env",
   "language": "python",
   "name": "python3"
  },
  "language_info": {
   "codemirror_mode": {
    "name": "ipython",
    "version": 3
   },
   "file_extension": ".py",
   "mimetype": "text/x-python",
   "name": "python",
   "nbconvert_exporter": "python",
   "pygments_lexer": "ipython3",
   "version": "3.8.20"
  }
 },
 "nbformat": 4,
 "nbformat_minor": 2
}
