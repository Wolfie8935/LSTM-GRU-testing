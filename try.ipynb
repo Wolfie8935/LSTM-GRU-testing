{
 "cells": [
  {
   "cell_type": "code",
   "execution_count": 35,
   "metadata": {},
   "outputs": [
    {
     "name": "stdout",
     "output_type": "stream",
     "text": [
      "Hi\n"
     ]
    }
   ],
   "source": [
    "print('Hi')"
   ]
  },
  {
   "cell_type": "code",
   "execution_count": null,
   "metadata": {},
   "outputs": [],
   "source": []
  },
  {
   "cell_type": "code",
   "execution_count": 36,
   "metadata": {},
   "outputs": [],
   "source": [
    "import tensorflow as tf"
   ]
  },
  {
   "cell_type": "code",
   "execution_count": 37,
   "metadata": {},
   "outputs": [
    {
     "name": "stdout",
     "output_type": "stream",
     "text": [
      "[PhysicalDevice(name='/physical_device:GPU:0', device_type='GPU')]\n"
     ]
    }
   ],
   "source": [
    "import tensorflow as tf\n",
    "print(tf.config.list_physical_devices('GPU'))"
   ]
  },
  {
   "cell_type": "code",
   "execution_count": 38,
   "metadata": {},
   "outputs": [],
   "source": [
    "import sklearn"
   ]
  },
  {
   "cell_type": "code",
   "execution_count": 39,
   "metadata": {},
   "outputs": [],
   "source": [
    "import numpy"
   ]
  },
  {
   "cell_type": "code",
   "execution_count": 40,
   "metadata": {},
   "outputs": [],
   "source": [
    "import pandas"
   ]
  },
  {
   "cell_type": "code",
   "execution_count": 41,
   "metadata": {},
   "outputs": [],
   "source": [
    "import matplotlib"
   ]
  },
  {
   "cell_type": "code",
   "execution_count": 42,
   "metadata": {},
   "outputs": [],
   "source": [
    "import seaborn"
   ]
  },
  {
   "cell_type": "code",
   "execution_count": null,
   "metadata": {},
   "outputs": [],
   "source": []
  },
  {
   "cell_type": "code",
   "execution_count": 43,
   "metadata": {},
   "outputs": [],
   "source": [
    "import numpy as np\n",
    "import pandas as pd\n",
    "from tqdm import tqdm\n",
    "from sklearn.model_selection import train_test_split\n",
    "import tensorflow as tf\n",
    "from tensorflow.keras.models import Sequential\n",
    "from tensorflow.keras.layers import LSTM, GRU, SimpleRNN, Dense, Activation, Dropout, Embedding, BatchNormalization, GlobalMaxPooling1D, Conv1D, MaxPooling1D, Flatten, Bidirectional, SpatialDropout1D\n",
    "from sklearn import preprocessing, decomposition, model_selection, metrics, pipeline\n",
    "from tensorflow.keras.preprocessing import sequence, text\n",
    "from tensorflow.keras.callbacks import EarlyStopping\n",
    "import matplotlib.pyplot as plt\n",
    "import seaborn as sns\n",
    "import warnings\n",
    "warnings.filterwarnings('ignore')"
   ]
  },
  {
   "cell_type": "code",
   "execution_count": 44,
   "metadata": {},
   "outputs": [],
   "source": [
    "from plotly import graph_objs as go\n",
    "import plotly.express as px\n",
    "import plotly.figure_factory as ff"
   ]
  },
  {
   "cell_type": "code",
   "execution_count": 45,
   "metadata": {},
   "outputs": [
    {
     "name": "stdout",
     "output_type": "stream",
     "text": [
      "tf.Tensor([[14.]], shape=(1, 1), dtype=float32)\n"
     ]
    }
   ],
   "source": [
    "import tensorflow as tf\n",
    "\n",
    "with tf.device('/GPU:0'):  # Ensure you specify the GPU device\n",
    "    a = tf.constant([[1.0, 2.0, 3.0]])\n",
    "    b = tf.constant([[1.0], [2.0], [3.0]])\n",
    "    c = tf.matmul(a, b)\n",
    "    print(c)\n"
   ]
  },
  {
   "cell_type": "code",
   "execution_count": 46,
   "metadata": {},
   "outputs": [
    {
     "name": "stdout",
     "output_type": "stream",
     "text": [
      "Physical devices cannot be modified after being initialized\n",
      "INFO:tensorflow:Using MirroredStrategy with devices ('/job:localhost/replica:0/task:0/device:GPU:0',)\n"
     ]
    },
    {
     "ename": "NameError",
     "evalue": "name 'word_index' is not defined",
     "output_type": "error",
     "traceback": [
      "\u001b[1;31m---------------------------------------------------------------------------\u001b[0m",
      "\u001b[1;31mNameError\u001b[0m                                 Traceback (most recent call last)",
      "Cell \u001b[1;32mIn[46], line 21\u001b[0m\n\u001b[0;32m     19\u001b[0m \u001b[38;5;28;01mwith\u001b[39;00m strategy\u001b[38;5;241m.\u001b[39mscope():\n\u001b[0;32m     20\u001b[0m     model \u001b[38;5;241m=\u001b[39m Sequential()\n\u001b[1;32m---> 21\u001b[0m     model\u001b[38;5;241m.\u001b[39madd(Embedding(\u001b[38;5;28mlen\u001b[39m(\u001b[43mword_index\u001b[49m) \u001b[38;5;241m+\u001b[39m \u001b[38;5;241m1\u001b[39m, \u001b[38;5;241m300\u001b[39m, input_length\u001b[38;5;241m=\u001b[39mmax_l))\n\u001b[0;32m     22\u001b[0m     model\u001b[38;5;241m.\u001b[39madd(SimpleRNN(\u001b[38;5;241m100\u001b[39m))\n\u001b[0;32m     23\u001b[0m     model\u001b[38;5;241m.\u001b[39madd(Dense(\u001b[38;5;241m1\u001b[39m, activation\u001b[38;5;241m=\u001b[39m\u001b[38;5;124m'\u001b[39m\u001b[38;5;124msigmoid\u001b[39m\u001b[38;5;124m'\u001b[39m))\n",
      "\u001b[1;31mNameError\u001b[0m: name 'word_index' is not defined"
     ]
    }
   ],
   "source": []
  },
  {
   "cell_type": "code",
   "execution_count": null,
   "metadata": {},
   "outputs": [],
   "source": []
  },
  {
   "cell_type": "code",
   "execution_count": null,
   "metadata": {},
   "outputs": [],
   "source": []
  },
  {
   "cell_type": "code",
   "execution_count": null,
   "metadata": {},
   "outputs": [],
   "source": []
  },
  {
   "cell_type": "code",
   "execution_count": null,
   "metadata": {},
   "outputs": [],
   "source": []
  },
  {
   "cell_type": "code",
   "execution_count": 47,
   "metadata": {},
   "outputs": [
    {
     "name": "stdout",
     "output_type": "stream",
     "text": [
      "Physical devices cannot be modified after being initialized\n",
      "INFO:tensorflow:Using MirroredStrategy with devices ('/job:localhost/replica:0/task:0/device:GPU:0',)\n",
      "INFO:tensorflow:Reduce to /job:localhost/replica:0/task:0/device:CPU:0 then broadcast to ('/job:localhost/replica:0/task:0/device:CPU:0',).\n",
      "INFO:tensorflow:Reduce to /job:localhost/replica:0/task:0/device:CPU:0 then broadcast to ('/job:localhost/replica:0/task:0/device:CPU:0',).\n",
      "INFO:tensorflow:Reduce to /job:localhost/replica:0/task:0/device:CPU:0 then broadcast to ('/job:localhost/replica:0/task:0/device:CPU:0',).\n",
      "INFO:tensorflow:Reduce to /job:localhost/replica:0/task:0/device:CPU:0 then broadcast to ('/job:localhost/replica:0/task:0/device:CPU:0',).\n",
      "Model: \"sequential_1\"\n",
      "_________________________________________________________________\n",
      "Layer (type)                 Output Shape              Param #   \n",
      "=================================================================\n",
      "embedding (Embedding)        (None, 100, 300)          600000    \n",
      "_________________________________________________________________\n",
      "simple_rnn (SimpleRNN)       (None, 100)               40100     \n",
      "_________________________________________________________________\n",
      "dense (Dense)                (None, 1)                 101       \n",
      "=================================================================\n",
      "Total params: 640,201\n",
      "Trainable params: 640,201\n",
      "Non-trainable params: 0\n",
      "_________________________________________________________________\n",
      "Epoch 1/5\n",
      "INFO:tensorflow:Reduce to /job:localhost/replica:0/task:0/device:CPU:0 then broadcast to ('/job:localhost/replica:0/task:0/device:CPU:0',).\n",
      "INFO:tensorflow:Reduce to /job:localhost/replica:0/task:0/device:CPU:0 then broadcast to ('/job:localhost/replica:0/task:0/device:CPU:0',).\n",
      "INFO:tensorflow:Reduce to /job:localhost/replica:0/task:0/device:CPU:0 then broadcast to ('/job:localhost/replica:0/task:0/device:CPU:0',).\n",
      "INFO:tensorflow:Reduce to /job:localhost/replica:0/task:0/device:CPU:0 then broadcast to ('/job:localhost/replica:0/task:0/device:CPU:0',).\n",
      "INFO:tensorflow:Reduce to /job:localhost/replica:0/task:0/device:CPU:0 then broadcast to ('/job:localhost/replica:0/task:0/device:CPU:0',).\n",
      "INFO:tensorflow:Reduce to /job:localhost/replica:0/task:0/device:CPU:0 then broadcast to ('/job:localhost/replica:0/task:0/device:CPU:0',).\n",
      "16/16 [==============================] - 4s 72ms/step - loss: 0.6982 - accuracy: 0.4970\n",
      "Epoch 2/5\n",
      "16/16 [==============================] - 1s 72ms/step - loss: 0.5540 - accuracy: 0.7390\n",
      "Epoch 3/5\n",
      "16/16 [==============================] - 1s 69ms/step - loss: 0.2608 - accuracy: 0.9420\n",
      "Epoch 4/5\n",
      "16/16 [==============================] - 1s 69ms/step - loss: 0.0688 - accuracy: 0.9980 0s - loss: 0.0701 - accuracy: 0.\n",
      "Epoch 5/5\n",
      "16/16 [==============================] - 1s 70ms/step - loss: 0.0150 - accuracy: 1.0000\n",
      "32/32 [==============================] - 2s 14ms/step - loss: 0.0073 - accuracy: 1.0000\n",
      "Loss: 0.007256578654050827, Accuracy: 1.0\n"
     ]
    }
   ],
   "source": [
    "import numpy as np\n",
    "import tensorflow as tf\n",
    "from tensorflow.keras.models import Sequential\n",
    "from tensorflow.keras.layers import Embedding, SimpleRNN, Dense\n",
    "from tensorflow.keras.preprocessing.sequence import pad_sequences\n",
    "\n",
    "# Check for available GPUs\n",
    "gpus = tf.config.list_physical_devices('GPU')\n",
    "if gpus:\n",
    "    try:\n",
    "        for gpu in gpus:\n",
    "            tf.config.experimental.set_memory_growth(gpu, True)\n",
    "        print(\"Memory growth set for GPUs.\")\n",
    "    except RuntimeError as e:\n",
    "        print(e)\n",
    "\n",
    "# Generate some dummy data for demonstration\n",
    "# Assuming we have 1000 samples, max length of sequences is 100, and 2000 unique words\n",
    "num_samples = 1000\n",
    "max_l = 100\n",
    "num_classes = 1  # For binary classification\n",
    "vocab_size = 2000\n",
    "\n",
    "# Create dummy input data\n",
    "xtrain = np.random.randint(1, vocab_size, size=(num_samples, max_l))\n",
    "ytrain = np.random.randint(0, 2, size=(num_samples, num_classes))\n",
    "\n",
    "# Pad the sequences to ensure uniform input size\n",
    "xtrain_pad = pad_sequences(xtrain, padding='post', maxlen=max_l)\n",
    "\n",
    "# Define the distribution strategy (optional)\n",
    "strategy = tf.distribute.MirroredStrategy()\n",
    "\n",
    "# Build the RNN model within the strategy scope\n",
    "with strategy.scope():\n",
    "    model = Sequential()\n",
    "    model.add(Embedding(input_dim=vocab_size, output_dim=300, input_length=max_l))\n",
    "    model.add(SimpleRNN(100))  # Simple RNN layer\n",
    "    model.add(Dense(num_classes, activation='sigmoid'))  # Sigmoid for binary classification\n",
    "    model.compile(loss='binary_crossentropy', optimizer='adam', metrics=['accuracy'])\n",
    "\n",
    "model.summary()\n",
    "\n",
    "# Train the model\n",
    "model.fit(xtrain_pad, ytrain, epochs=5, batch_size=64)\n",
    "\n",
    "# Evaluate the model (using the same data for demonstration)\n",
    "loss, accuracy = model.evaluate(xtrain_pad, ytrain)\n",
    "print(f\"Loss: {loss}, Accuracy: {accuracy}\")\n"
   ]
  },
  {
   "cell_type": "code",
   "execution_count": null,
   "metadata": {},
   "outputs": [],
   "source": []
  },
  {
   "cell_type": "code",
   "execution_count": 2,
   "metadata": {},
   "outputs": [
    {
     "name": "stdout",
     "output_type": "stream",
     "text": [
      "Training on GPU:\n"
     ]
    },
    {
     "ename": "RuntimeError",
     "evalue": "module compiled against API version 0xe but this version of numpy is 0xd",
     "output_type": "error",
     "traceback": [
      "\u001b[1;31m---------------------------------------------------------------------------\u001b[0m",
      "\u001b[1;31mRuntimeError\u001b[0m                              Traceback (most recent call last)",
      "\u001b[1;31mRuntimeError\u001b[0m: module compiled against API version 0xe but this version of numpy is 0xd"
     ]
    },
    {
     "name": "stdout",
     "output_type": "stream",
     "text": [
      "Epoch 1/5\n",
      "782/782 [==============================] - 12s 5ms/step - loss: 2.3030 - accuracy: 0.0994 - val_loss: 2.3027 - val_accuracy: 0.1021\n",
      "Epoch 2/5\n",
      "782/782 [==============================] - 3s 4ms/step - loss: 2.3026 - accuracy: 0.1022 - val_loss: 2.3026 - val_accuracy: 0.1021\n",
      "Epoch 3/5\n",
      "782/782 [==============================] - 3s 3ms/step - loss: 2.3026 - accuracy: 0.1010 - val_loss: 2.3026 - val_accuracy: 0.1054\n",
      "Epoch 4/5\n",
      "782/782 [==============================] - 3s 3ms/step - loss: 2.3026 - accuracy: 0.0998 - val_loss: 2.3027 - val_accuracy: 0.1009\n",
      "Epoch 5/5\n",
      "782/782 [==============================] - 3s 4ms/step - loss: 2.3026 - accuracy: 0.1004 - val_loss: 2.3026 - val_accuracy: 0.1021\n",
      "Training on /GPU:0: 25.48 seconds\n",
      "Training on CPU:\n",
      "Epoch 1/5\n",
      "782/782 [==============================] - 17s 22ms/step - loss: 2.3030 - accuracy: 0.1007 - val_loss: 2.3027 - val_accuracy: 0.0984\n",
      "Epoch 2/5\n",
      "782/782 [==============================] - 18s 22ms/step - loss: 2.3027 - accuracy: 0.1017 - val_loss: 2.3025 - val_accuracy: 0.1054\n",
      "Epoch 3/5\n",
      "782/782 [==============================] - 17s 22ms/step - loss: 2.3027 - accuracy: 0.1013 - val_loss: 2.3027 - val_accuracy: 0.1021\n",
      "Epoch 4/5\n",
      "782/782 [==============================] - 17s 22ms/step - loss: 2.3027 - accuracy: 0.1005 - val_loss: 2.3026 - val_accuracy: 0.1021\n",
      "Epoch 5/5\n",
      "782/782 [==============================] - 17s 22ms/step - loss: 2.3026 - accuracy: 0.1010 - val_loss: 2.3025 - val_accuracy: 0.1054\n",
      "Training on /CPU:0: 89.01 seconds\n"
     ]
    }
   ],
   "source": [
    "import tensorflow as tf\n",
    "from tensorflow.keras import layers, models\n",
    "import numpy as np\n",
    "import time\n",
    "\n",
    "# Generate random training and testing data\n",
    "def generate_random_data(num_samples, img_height, img_width, num_classes):\n",
    "    x_data = np.random.rand(num_samples, img_height, img_width, 3)  # Random images\n",
    "    y_data = np.random.randint(0, num_classes, num_samples)  # Random labels\n",
    "    return x_data, y_data\n",
    "\n",
    "# Parameters\n",
    "num_train_samples = 50000  # Number of training samples\n",
    "num_test_samples = 10000   # Number of testing samples\n",
    "img_height, img_width = 32, 32\n",
    "num_classes = 10\n",
    "\n",
    "# Generate random datasets\n",
    "x_train, y_train = generate_random_data(num_train_samples, img_height, img_width, num_classes)\n",
    "x_test, y_test = generate_random_data(num_test_samples, img_height, img_width, num_classes)\n",
    "\n",
    "# Define a simple CNN model\n",
    "def create_model():\n",
    "    model = models.Sequential([\n",
    "        layers.Conv2D(32, (3, 3), activation='relu', input_shape=(img_height, img_width, 3)),\n",
    "        layers.MaxPooling2D((2, 2)),\n",
    "        layers.Conv2D(64, (3, 3), activation='relu'),\n",
    "        layers.MaxPooling2D((2, 2)),\n",
    "        layers.Conv2D(64, (3, 3), activation='relu'),\n",
    "        layers.Flatten(),\n",
    "        layers.Dense(64, activation='relu'),\n",
    "        layers.Dense(num_classes, activation='softmax')\n",
    "    ])\n",
    "    model.compile(optimizer='adam',\n",
    "                  loss='sparse_categorical_crossentropy',\n",
    "                  metrics=['accuracy'])\n",
    "    return model\n",
    "\n",
    "# Function to train the model\n",
    "def train_model(device):\n",
    "    with tf.device(device):\n",
    "        model = create_model()\n",
    "        start_time = time.time()\n",
    "        model.fit(x_train, y_train, epochs=5, batch_size=64, validation_data=(x_test, y_test))\n",
    "        end_time = time.time()\n",
    "        print(f\"Training on {device}: {end_time - start_time:.2f} seconds\")\n",
    "\n",
    "# Train on GPU if available\n",
    "if tf.config.list_physical_devices('GPU'):\n",
    "    print(\"Training on GPU:\")\n",
    "    train_model('/GPU:0')\n",
    "else:\n",
    "    print(\"No GPU found, training on CPU instead.\")\n",
    "    train_model('/CPU:0')\n",
    "\n",
    "# Train on CPU explicitly\n",
    "print(\"Training on CPU:\")\n",
    "train_model('/CPU:0')\n"
   ]
  },
  {
   "cell_type": "code",
   "execution_count": null,
   "metadata": {},
   "outputs": [],
   "source": []
  }
 ],
 "metadata": {
  "kernelspec": {
   "display_name": "tf_gpu_env",
   "language": "python",
   "name": "python3"
  },
  "language_info": {
   "codemirror_mode": {
    "name": "ipython",
    "version": 3
   },
   "file_extension": ".py",
   "mimetype": "text/x-python",
   "name": "python",
   "nbconvert_exporter": "python",
   "pygments_lexer": "ipython3",
   "version": "3.8.20"
  }
 },
 "nbformat": 4,
 "nbformat_minor": 2
}
